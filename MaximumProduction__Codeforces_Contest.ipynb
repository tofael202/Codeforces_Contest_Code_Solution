{
  "nbformat": 4,
  "nbformat_minor": 0,
  "metadata": {
    "colab": {
      "name": "MaximumProduction _Codeforces Contest.ipynb",
      "provenance": [],
      "collapsed_sections": [],
      "authorship_tag": "ABX9TyMIPyktk7QdeASk88p1JI6n",
      "include_colab_link": true
    },
    "kernelspec": {
      "name": "python3",
      "display_name": "Python 3"
    },
    "language_info": {
      "name": "python"
    }
  },
  "cells": [
    {
      "cell_type": "markdown",
      "metadata": {
        "id": "view-in-github",
        "colab_type": "text"
      },
      "source": [
        "<a href=\"https://colab.research.google.com/github/tofael202/Codeforces_Contest_Code_Solution/blob/main/MaximumProduction__Codeforces_Contest.ipynb\" target=\"_parent\"><img src=\"https://colab.research.google.com/assets/colab-badge.svg\" alt=\"Open In Colab\"/></a>"
      ]
    },
    {
      "cell_type": "code",
      "metadata": {
        "id": "WljHDYiL8K5L"
      },
      "source": [
        "#https://www.codechef.com/JULY21C/problems/EITA/"
      ],
      "execution_count": null,
      "outputs": []
    },
    {
      "cell_type": "code",
      "metadata": {
        "colab": {
          "base_uri": "https://localhost:8080/"
        },
        "id": "3IOqmEs68R9h",
        "outputId": "fb1ca406-ab18-49d7-907c-79caf55b883a"
      },
      "source": [
        "print(\"Give number of test cases\")\n",
        "no_of_input=int(input())\n",
        "print(\" Give D X Y Z in this format.Please give space and then enter for new test case\")\n",
        "input_list=[]\n",
        "\n",
        "for i in range(no_of_input):\n",
        "  d=(input())\n",
        "  input_list.append(d)\n",
        "  \n",
        "#print(input_list)  \n",
        "for i in range(len(input_list)):\n",
        "  d=0\n",
        "  x=0\n",
        "  y=0\n",
        "  z=0\n",
        "  first_way=0\n",
        "  second_way=0\n",
        "  d,x,y,z=input_list[i].split(\" \")\n",
        "  d=int(d)\n",
        "  x=int(x)\n",
        "  y=int(y)\n",
        "  z=int(z)\n",
        "  first_way=(x*7)\n",
        "  \n",
        "  second_way=(d*y +(7-d)*z)\n",
        "  #print(first_way,second_way)\n",
        "  print(max(first_way,second_way))\n",
        "\n",
        "\n",
        "\n"
      ],
      "execution_count": 20,
      "outputs": [
        {
          "output_type": "stream",
          "text": [
            "Give number of test cases\n",
            "3\n",
            " Give D X Y Z in this format.Please give space and then enter for new test case\n",
            "1 2 3 1\n",
            "6 2 3 1\n",
            "1 2 8 1\n",
            "14\n",
            "19\n",
            "14\n"
          ],
          "name": "stdout"
        }
      ]
    },
    {
      "cell_type": "code",
      "metadata": {
        "id": "-Z_kDq9VcCxb"
      },
      "source": [
        "#codeforces style code\n",
        "import sys\n",
        "input_length = sys.stdin.readline().rstrip()\n",
        "n=int(input_length)\n",
        "\n",
        "for i in range(0,n):\n",
        "  d=0\n",
        "  x=0\n",
        "  y=0\n",
        "  z=0\n",
        "  first_way=0\n",
        "  second_way=0\n",
        "  [d,x,y,z] = sys.stdin.readline().rstrip().split()\n",
        "  d=int(d)\n",
        "  x=int(x)\n",
        "  y=int(y)\n",
        "  z=int(z)\n",
        "  first_way=(x*7)\n",
        "  second_way=(d*y +(7-d)*z)\n",
        "  print(max(first_way,second_way))\n"
      ],
      "execution_count": null,
      "outputs": []
    }
  ]
}