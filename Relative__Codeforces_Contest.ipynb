{
  "nbformat": 4,
  "nbformat_minor": 0,
  "metadata": {
    "colab": {
      "name": "Relative _Codeforces Contest.ipynb",
      "provenance": [],
      "collapsed_sections": [],
      "authorship_tag": "ABX9TyOKQKiGxykcrRFRXsInEkLD",
      "include_colab_link": true
    },
    "kernelspec": {
      "name": "python3",
      "display_name": "Python 3"
    },
    "language_info": {
      "name": "python"
    }
  },
  "cells": [
    {
      "cell_type": "markdown",
      "metadata": {
        "id": "view-in-github",
        "colab_type": "text"
      },
      "source": [
        "<a href=\"https://colab.research.google.com/github/tofael202/Codeforces_Contest_Code_Solution/blob/main/Relative__Codeforces_Contest.ipynb\" target=\"_parent\"><img src=\"https://colab.research.google.com/assets/colab-badge.svg\" alt=\"Open In Colab\"/></a>"
      ]
    },
    {
      "cell_type": "code",
      "metadata": {
        "id": "WljHDYiL8K5L"
      },
      "source": [
        "# https://www.codechef.com/JULY21C/problems/RELATIVE#"
      ],
      "execution_count": null,
      "outputs": []
    },
    {
      "cell_type": "code",
      "metadata": {
        "colab": {
          "base_uri": "https://localhost:8080/"
        },
        "id": "3IOqmEs68R9h",
        "outputId": "71429f77-8df3-4234-f75c-cd6ad64dda4e"
      },
      "source": [
        "print(\"Give number of test cases\")\n",
        "no_of_input=int(input())\n",
        "print(\" Give G C in this format.Please give space and then enter for new test case\")\n",
        "input_list=[]\n",
        "\n",
        "for i in range(no_of_input):\n",
        "  d=(input())\n",
        "  input_list.append(d)\n",
        "  \n",
        "#print(input_list)  \n",
        "for i in range(len(input_list)):\n",
        "  g=0\n",
        "  c=0\n",
        "  \n",
        "  min_height=0\n",
        "  \n",
        "  g,c=input_list[i].split(\" \")\n",
        "  g=int(g)\n",
        "  c=int(c)\n",
        "  min_height=(c*c)/(2*g)\n",
        "  print(int(min_height))\n",
        "\n",
        "\n",
        "\n"
      ],
      "execution_count": 22,
      "outputs": [
        {
          "output_type": "stream",
          "text": [
            "Give number of test cases\n",
            "3\n",
            " Give G C in this format.Please give space and then enter for new test case\n",
            "7 1400\n",
            "5 1000\n",
            "10 1000\n",
            "140000\n",
            "100000\n",
            "50000\n"
          ],
          "name": "stdout"
        }
      ]
    },
    {
      "cell_type": "code",
      "metadata": {
        "id": "-Z_kDq9VcCxb"
      },
      "source": [
        "#codeforces style code\n",
        "import sys\n",
        "input_length = sys.stdin.readline().rstrip()\n",
        "n=int(input_length)\n",
        "\n",
        "for i in range(0,n):\n",
        "  g=0\n",
        "  c=0\n",
        "  min_height=0\n",
        "  [g,c] = sys.stdin.readline().rstrip().split()\n",
        "  g=int(g)\n",
        "  c=int(c)\n",
        "  min_height=(c*c)/(2*g)\n",
        "  print(int(min_height))\n",
        "\n"
      ],
      "execution_count": null,
      "outputs": []
    }
  ]
}